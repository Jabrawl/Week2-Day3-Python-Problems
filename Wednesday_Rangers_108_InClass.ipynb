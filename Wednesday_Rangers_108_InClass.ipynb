{
 "cells": [
  {
   "cell_type": "markdown",
   "metadata": {},
   "source": [
    "# Dictionaries, Sets, & Importing Modules"
   ]
  },
  {
   "cell_type": "markdown",
   "metadata": {},
   "source": [
    "## Tasks Today:\n",
    "\n",
    "1) Dictionary <br>\n",
    " &nbsp;&nbsp;&nbsp;&nbsp; a) Declaring (key, value) <br>\n",
    " &nbsp;&nbsp;&nbsp;&nbsp; b) Accessing Values <br>\n",
    " &nbsp;&nbsp;&nbsp;&nbsp; ------ Exercise #1 - Print the eye color of each person in a double nested dict <br>\n",
    " &nbsp;&nbsp;&nbsp;&nbsp; c) Adding New Pairs <br>\n",
    " &nbsp;&nbsp;&nbsp;&nbsp; d) Modifying Values <br>\n",
    " &nbsp;&nbsp;&nbsp;&nbsp; e) Removing Key, Value Pairs <br>\n",
    " &nbsp;&nbsp;&nbsp;&nbsp; f) Looping a Dictionary <br>\n",
    " &nbsp;&nbsp;&nbsp;&nbsp; g) Looping Only Keys <br>\n",
    " &nbsp;&nbsp;&nbsp;&nbsp; h) Looping Only Values <br>\n",
    " &nbsp;&nbsp;&nbsp;&nbsp; ------ Exercise #2 - Create a Function that Prints All Key Value Pairs within a print .format()  <br>\n",
    " &nbsp;&nbsp;&nbsp;&nbsp; i) sorted() <br>\n",
    " &nbsp;&nbsp;&nbsp;&nbsp; j) Lists with Dictionaries <br>\n",
    " &nbsp;&nbsp;&nbsp;&nbsp; k) Dictionaries with Lists <br>\n",
    " &nbsp;&nbsp;&nbsp;&nbsp; l) Dictionaries with Dictionaries <br>\n",
    " &nbsp;&nbsp;&nbsp;&nbsp; ------ Exercise #3 - Write a Function that asks someone's name and address, and then stores that into a dictionary, which prints all names and addresses after they're done putting information in...  <br>\n",
    "2) Dictionaries vs. Lists (over time)<br>\n",
    "3) Set <br>\n",
    " &nbsp;&nbsp;&nbsp;&nbsp; a) Declaring <br>\n",
    " &nbsp;&nbsp;&nbsp;&nbsp; b) .add() <br>\n",
    " &nbsp;&nbsp;&nbsp;&nbsp; c) .remove() <br>\n",
    " &nbsp;&nbsp;&nbsp;&nbsp; d) .union() <br>\n",
    " &nbsp;&nbsp;&nbsp;&nbsp; e) .intersection() <br>\n",
    " &nbsp;&nbsp;&nbsp;&nbsp; f) .difference() <br>\n",
    " &nbsp;&nbsp;&nbsp;&nbsp; g) Frozen Set <br>\n",
    "4) Modules <br>\n",
    " &nbsp;&nbsp;&nbsp;&nbsp; a) Importing Entire Modules <br>\n",
    " &nbsp;&nbsp;&nbsp;&nbsp; b) Importing Methods Only <br>\n",
    " &nbsp;&nbsp;&nbsp;&nbsp; c) Using the 'as' Keyword <br>\n",
    " &nbsp;&nbsp;&nbsp;&nbsp; d) Creating a Module <br>\n",
    "5) Exercises <br>\n",
    " &nbsp;&nbsp;&nbsp;&nbsp; a) Build a Shopping Cart <br>\n",
    " &nbsp;&nbsp;&nbsp;&nbsp; b) Create Your Own Module <br>"
   ]
  },
  {
   "cell_type": "markdown",
   "metadata": {},
   "source": [
    "## Dictionary <br>\n",
    "<p>A collection of data with 'key:value' pairs. Dictionaries are ordered as of Python 3.6</p>"
   ]
  },
  {
   "cell_type": "markdown",
   "metadata": {},
   "source": [
    "##### Declaring (key, value)"
   ]
  },
  {
   "cell_type": "code",
   "execution_count": 1,
   "metadata": {},
   "outputs": [],
   "source": [
    "# keys should be unique\n",
    "# can use numbers or strings as keys\n",
    "\n"
   ]
  },
  {
   "cell_type": "markdown",
   "metadata": {},
   "source": [
    "##### Accessing Values"
   ]
  },
  {
   "cell_type": "code",
   "execution_count": 2,
   "metadata": {},
   "outputs": [],
   "source": [
    "# dict[key]\n",
    "\n"
   ]
  },
  {
   "cell_type": "markdown",
   "metadata": {},
   "source": [
    "## In-Class Exercise #1 - Print a formatted statement from the dictionary below <br>\n",
    "<p>The output should be '2018 Chevrolet Silverado'</p>"
   ]
  },
  {
   "cell_type": "code",
   "execution_count": 3,
   "metadata": {},
   "outputs": [],
   "source": [
    "# use the dict below\n",
    "truck = {\n",
    "    \"year\": 2018,\n",
    "    'make': 'Chevrolet',\n",
    "    'model': 'Silverado'\n",
    "}\n",
    "\n"
   ]
  },
  {
   "cell_type": "markdown",
   "metadata": {},
   "source": [
    "##### Adding New Pairs"
   ]
  },
  {
   "cell_type": "code",
   "execution_count": 4,
   "metadata": {},
   "outputs": [],
   "source": [
    "# dict[key] = value\n"
   ]
  },
  {
   "cell_type": "markdown",
   "metadata": {},
   "source": [
    "##### Modifying Values"
   ]
  },
  {
   "cell_type": "code",
   "execution_count": 5,
   "metadata": {},
   "outputs": [],
   "source": [
    "# dict[key] = value\n"
   ]
  },
  {
   "cell_type": "markdown",
   "metadata": {},
   "source": [
    "##### Removing Key, Value Pairs"
   ]
  },
  {
   "cell_type": "code",
   "execution_count": 6,
   "metadata": {},
   "outputs": [],
   "source": [
    "# del dict[key]\n",
    "\n"
   ]
  },
  {
   "cell_type": "markdown",
   "metadata": {},
   "source": [
    "##### Looping a Dictionary"
   ]
  },
  {
   "cell_type": "code",
   "execution_count": 7,
   "metadata": {},
   "outputs": [],
   "source": [
    "# .items()\n",
    "# a, b, c = 1, 2, 3\n"
   ]
  },
  {
   "cell_type": "markdown",
   "metadata": {},
   "source": [
    "##### Looping Only Keys"
   ]
  },
  {
   "cell_type": "code",
   "execution_count": 8,
   "metadata": {},
   "outputs": [],
   "source": [
    "# .keys()\n"
   ]
  },
  {
   "cell_type": "markdown",
   "metadata": {},
   "source": [
    "##### Looping Only Values"
   ]
  },
  {
   "cell_type": "code",
   "execution_count": null,
   "metadata": {},
   "outputs": [],
   "source": []
  },
  {
   "cell_type": "code",
   "execution_count": null,
   "metadata": {
    "scrolled": false
   },
   "outputs": [],
   "source": []
  },
  {
   "cell_type": "code",
   "execution_count": 9,
   "metadata": {
    "scrolled": true
   },
   "outputs": [],
   "source": [
    "# .values()\n"
   ]
  },
  {
   "cell_type": "markdown",
   "metadata": {},
   "source": [
    "## In-Class Exercise #2 - Create a Function that Prints All Key Value Pairs within a print .format() <br>\n",
    "<p><b>Output should be:</b><br>\n",
    "Max has blue eyes<br>\n",
    "Lilly has brown eyes<br>\n",
    "Barney has blue eyes<br>\n",
    "etc.\n",
    "</p>"
   ]
  },
  {
   "cell_type": "code",
   "execution_count": 9,
   "metadata": {},
   "outputs": [
    {
     "name": "stdout",
     "output_type": "stream",
     "text": [
      "Max has blue eyes\n",
      "Lilly has brown eyes\n",
      "Barney has blue eyes\n",
      "Tom has green eyes\n"
     ]
    }
   ],
   "source": [
    "# use the dict below\n",
    "\n",
    "my_dict = {\n",
    "    \"Max\" : \"blue\",\n",
    "    \"Lilly\" : \"brown\",\n",
    "    \"Barney\" : \"blue\",\n",
    "    \"Tom\" : \"green\"\n",
    "}\n",
    "\n",
    "dict_list = []\n",
    "\n",
    "for name, key in my_dict.items():    \n",
    "    print(f\"{name} has {key} eyes\")"
   ]
  },
  {
   "cell_type": "markdown",
   "metadata": {},
   "source": [
    "##### sorted()"
   ]
  },
  {
   "cell_type": "code",
   "execution_count": 11,
   "metadata": {},
   "outputs": [],
   "source": [
    "# sorts variables in order\n",
    "# sorted(dict.values()) or dict.keys() or dict.items()\n"
   ]
  },
  {
   "cell_type": "markdown",
   "metadata": {},
   "source": [
    "##### List with Dictionaries"
   ]
  },
  {
   "cell_type": "code",
   "execution_count": null,
   "metadata": {},
   "outputs": [],
   "source": []
  },
  {
   "cell_type": "markdown",
   "metadata": {},
   "source": [
    "##### Dictionaries with Lists"
   ]
  },
  {
   "cell_type": "code",
   "execution_count": 12,
   "metadata": {},
   "outputs": [],
   "source": [
    "# be careful when using numbers as keys in dictionaries, don't confuse them with indexes\n",
    "\n"
   ]
  },
  {
   "cell_type": "markdown",
   "metadata": {},
   "source": [
    "##### Dictionaries with Dictionaries"
   ]
  },
  {
   "cell_type": "code",
   "execution_count": 12,
   "metadata": {},
   "outputs": [
    {
     "name": "stdout",
     "output_type": "stream",
     "text": [
      "{'Ryan': {'Mexican': ['Tacos', 'Tortas', 'Arroz'], 'Desserts': ['Cheesecake', 'Cupcakes', 'Pie', 'Cookies']}, 'James': {'Main Course': ['Meatloaf', 'Beef Stroganoff', 'Chicken Stuffing Broccoli Casserole'], 'Desserts': ['Crumb Nutty Pie', 'Moon Pie', 'Pink Salad']}, 'Nate': {'favorite_dinner': ['Hibachi', 'Mexican', 'Italian'], 'favorite_dessert': ['Pazooki', 'Red Velvet Cake', 'Pumpkin Pie']}, 'Tenzin': {'Indian': ['Dumplings', 'Naan', 'Tandoori'], 'Mexican': ['Nachos', 'Empanadas', 'Burrito']}, 'Dylan': {'Sushi': ['Fatty Tuna', 'Unagi', 'Crab Roll'], 'Soup': ['Miso', 'Potato', 'Wonton']}, 'Jeong': {'Japanese': ['Sushi', 'Katsu', 'Ramen'], 'Korean': ['KBBQ', 'Stew', 'Porridge', 'K-Chicken'], 'Deserts': ['Bouncy Cheesecake', 'Ice Cream']}, 'John': {'Japanese': ['Sushi', 'Takoyaki', 'Ramen'], 'American': ['Cheeseburger', 'Crabcake'], 'Desserts': ['Pie', 'Ice Cream']}, 'Mike': {'Indian': ['Curry', 'Tikka', 'Chana'], 'Desserts': ['Applepie', 'Pecanpie', 'Carrotcake']}, 'Sam': {'Meals': ['Pizza', \"Wendy's 4 for 4\", 'Pasta', 'Hoagies'], 'Veggies': ['cucumbers', 'avocados', 'tomatoes', 'carrots']}, 'Kayla': {'Asian': ['Ramen', 'Bulgogi', 'HotPot'], 'Desserts': ['Chocolate', 'WaterGateSalad', 'Icecream']}, 'Austin': {'Mexican': ['Ceviche', 'Shrimp Chimichanga'], 'Fast Food': ['Chipolte', 'Chic-Fil-a'], 'Japanese': ['Nigri', 'Sashimi(Eel)']}, 'Mohammad': {'Food': ['Pasta', 'Fried Chicken', 'Tacos'], 'Desserts': ['Chocolate Cake', 'Ice Cream']}, 'Alex': {'Hispanic': ['tacos', 'pupusas', 'tomales'], 'Desserts': ['cheesecake', 'ice cream', 'tarimasu'], 'Cajun': ['gumbo', 'poboy', 'jambalaya']}}\n"
     ]
    }
   ],
   "source": [
    "# to get values, must traverse through keys\n",
    "food_dict = {\n",
    "    \"Ryan\": {\n",
    "        \"Mexican\": [\"Tacos\", \"Tortas\", \"Arroz\"],\n",
    "        \"Desserts\": [\"Cheesecake\", \"Cupcakes\", \"Pie\", \"Cookies\"]\n",
    "    },\n",
    "    \"James\": {\n",
    "        \"Main Course\": [\"Meatloaf\", \"Beef Stroganoff\", \"Chicken Stuffing Broccoli Casserole\"],\n",
    "        \"Desserts\": [\"Crumb Nutty Pie\", \"Moon Pie\", \"Pink Salad\"]\n",
    "    },\n",
    "    \"Nate\": {\n",
    "        \"favorite_dinner\": ['Hibachi', 'Mexican', 'Italian'],\n",
    "        \"favorite_dessert\": ['Pazooki', 'Red Velvet Cake', \"Pumpkin Pie\" ]\n",
    "    },\n",
    "    \"Tenzin\": {\n",
    "        \"Indian\": [\"Dumplings\",\"Naan\",\"Tandoori\"],\n",
    "        \"Mexican\": [\"Nachos\", \"Empanadas\",\"Burrito\"]\n",
    "    },\n",
    "    \"Dylan\" : {\n",
    "        \"Sushi\" : [\"Fatty Tuna\", \"Unagi\", \"Crab Roll\"],\n",
    "        \"Soup\" : [\"Miso\", \"Potato\", \"Wonton\"] \n",
    "    },\n",
    "    \"Jeong\": {\n",
    "        \"Japanese\": [\"Sushi\", \"Katsu\", \"Ramen\"],\n",
    "        \"Korean\": [\"KBBQ\", \"Stew\", \"Porridge\", \"K-Chicken\"],\n",
    "        \"Deserts\": [\"Bouncy Cheesecake\", \"Ice Cream\"]\n",
    "    },\n",
    "    \"John\": {\n",
    "        \"Japanese\": [\"Sushi\", \"Takoyaki\", \"Ramen\"],\n",
    "        \"American\": [\"Cheeseburger\", \"Crabcake\"],\n",
    "        \"Desserts\": [\"Pie\", \"Ice Cream\"]\n",
    "    },\n",
    "    \"Mike\": {        \n",
    "        \"Indian\": [\"Curry\", \"Tikka\", \"Chana\"],\n",
    "        \"Desserts\":[\"Applepie\", \"Pecanpie\", \"Carrotcake\"]       \n",
    "        \n",
    "    },\n",
    "    \"Sam\": {\n",
    "        \"Meals\": [\"Pizza\", \"Wendy's 4 for 4\", \"Pasta\", \"Hoagies\"],\n",
    "        \"Veggies\": [\"cucumbers\", \"avocados\", \"tomatoes\", \"carrots\"]\n",
    "    },\n",
    "    \n",
    "    'Kayla':{\n",
    "        'Asian': ['Ramen', 'Bulgogi', 'HotPot'],\n",
    "        'Desserts': ['Chocolate', 'WaterGateSalad', 'Icecream']\n",
    "    }\n",
    "    ,\n",
    "    \"Austin\": {\n",
    "         \"Mexican\":[\"Ceviche\",\"Shrimp Chimichanga\"],\n",
    "         \"Fast Food\": [\"Chipolte\", \"Chic-Fil-a\"],\n",
    "         \"Japanese\": [\"Nigri\", \"Sashimi(Eel)\"]\n",
    "    },\n",
    "    \"Mohammad\": {\n",
    "        \"Food\":[\"Pasta\", \"Fried Chicken\" , \"Tacos\"],\n",
    "        \"Desserts\":[\"Chocolate Cake\" ,\"Ice Cream\"]\n",
    "    },\n",
    "    \"Alex\": {\n",
    "        \"Hispanic\" : ['tacos', 'pupusas', 'tomales'],\n",
    "        'Desserts': ['cheesecake','ice cream', 'tarimasu'],\n",
    "        'Cajun': ['gumbo','poboy','jambalaya']\n",
    "    }\n",
    "        \n",
    "\n",
    "}\n",
    "\n",
    "print(food_dict)\n"
   ]
  },
  {
   "cell_type": "code",
   "execution_count": 14,
   "metadata": {},
   "outputs": [
    {
     "name": "stdout",
     "output_type": "stream",
     "text": [
      "Ryan's favorite desserts are: Cheesecake, Cupcakes, Pie, Cookies, \n"
     ]
    }
   ],
   "source": [
    "dessert_string = \"Ryan's favorite desserts are: \"\n",
    "for dessert in food_dict['Ryan'][\"Desserts\"]:\n",
    "    dessert_string += dessert + \", \"\n",
    "\n",
    "print(dessert_string)"
   ]
  },
  {
   "cell_type": "code",
   "execution_count": 15,
   "metadata": {},
   "outputs": [
    {
     "name": "stdout",
     "output_type": "stream",
     "text": [
      "Mexican\n",
      "Desserts\n",
      "Main Course\n",
      "Desserts\n",
      "favorite_dinner\n",
      "favorite_dessert\n",
      "Indian\n",
      "Mexican\n",
      "Sushi\n",
      "Soup\n",
      "Japanese\n",
      "Korean\n",
      "Deserts\n",
      "Japanese\n",
      "American\n",
      "Desserts\n",
      "Indian\n",
      "Desserts\n",
      "Meals\n",
      "Veggies\n",
      "Asian\n",
      "Desserts\n",
      "Mexican\n",
      "Fast Food\n",
      "Japanese\n",
      "Food\n",
      "Desserts\n",
      "Hispanic\n",
      "Desserts\n",
      "Cajun\n"
     ]
    }
   ],
   "source": [
    "for name in food_dict.keys():\n",
    "    for genre in food_dict[name].keys():\n",
    "        print(genre)"
   ]
  },
  {
   "cell_type": "code",
   "execution_count": 18,
   "metadata": {},
   "outputs": [
    {
     "name": "stdout",
     "output_type": "stream",
     "text": [
      "\n",
      "Here are all foods listed: \n",
      "\n",
      "\n",
      "Ryan's' favorite foods are: \n",
      "Tacos\n",
      "Tortas\n",
      "Arroz\n",
      "Cheesecake\n",
      "Cupcakes\n",
      "Pie\n",
      "Cookies\n",
      "\n",
      "James's' favorite foods are: \n",
      "Meatloaf\n",
      "Beef Stroganoff\n",
      "Chicken Stuffing Broccoli Casserole\n",
      "Crumb Nutty Pie\n",
      "Moon Pie\n",
      "Pink Salad\n",
      "\n",
      "Nate's' favorite foods are: \n",
      "Hibachi\n",
      "Mexican\n",
      "Italian\n",
      "Pazooki\n",
      "Red Velvet Cake\n",
      "Pumpkin Pie\n",
      "\n",
      "Tenzin's' favorite foods are: \n",
      "Dumplings\n",
      "Naan\n",
      "Tandoori\n",
      "Nachos\n",
      "Empanadas\n",
      "Burrito\n",
      "\n",
      "Dylan's' favorite foods are: \n",
      "Fatty Tuna\n",
      "Unagi\n",
      "Crab Roll\n",
      "Miso\n",
      "Potato\n",
      "Wonton\n",
      "\n",
      "Jeong's' favorite foods are: \n",
      "Sushi\n",
      "Katsu\n",
      "Ramen\n",
      "KBBQ\n",
      "Stew\n",
      "Porridge\n",
      "K-Chicken\n",
      "Bouncy Cheesecake\n",
      "Ice Cream\n",
      "\n",
      "John's' favorite foods are: \n",
      "Sushi\n",
      "Takoyaki\n",
      "Ramen\n",
      "Cheeseburger\n",
      "Crabcake\n",
      "Pie\n",
      "Ice Cream\n",
      "\n",
      "Mike's' favorite foods are: \n",
      "Curry\n",
      "Tikka\n",
      "Chana\n",
      "Applepie\n",
      "Pecanpie\n",
      "Carrotcake\n",
      "\n",
      "Sam's' favorite foods are: \n",
      "Pizza\n",
      "Wendy's 4 for 4\n",
      "Pasta\n",
      "Hoagies\n",
      "cucumbers\n",
      "avocados\n",
      "tomatoes\n",
      "carrots\n",
      "\n",
      "Kayla's' favorite foods are: \n",
      "Ramen\n",
      "Bulgogi\n",
      "HotPot\n",
      "Chocolate\n",
      "WaterGateSalad\n",
      "Icecream\n",
      "\n",
      "Austin's' favorite foods are: \n",
      "Ceviche\n",
      "Shrimp Chimichanga\n",
      "Chipolte\n",
      "Chic-Fil-a\n",
      "Nigri\n",
      "Sashimi(Eel)\n",
      "\n",
      "Mohammad's' favorite foods are: \n",
      "Pasta\n",
      "Fried Chicken\n",
      "Tacos\n",
      "Chocolate Cake\n",
      "Ice Cream\n",
      "\n",
      "Alex's' favorite foods are: \n",
      "tacos\n",
      "pupusas\n",
      "tomales\n",
      "cheesecake\n",
      "ice cream\n",
      "tarimasu\n",
      "gumbo\n",
      "poboy\n",
      "jambalaya\n"
     ]
    }
   ],
   "source": [
    "print(\"\\nHere are all foods listed: \\n\")\n",
    "for name in food_dict.keys():\n",
    "    print(f\"\\n{name}'s' favorite foods are: \")\n",
    "    for food_type in food_dict[name].keys():\n",
    "        for food in food_dict[name][food_type]:\n",
    "            print(food)"
   ]
  },
  {
   "cell_type": "markdown",
   "metadata": {},
   "source": [
    "## Dictionaries vs. Lists (over time) Example of RUNTIME\n",
    "### When inputting values in a Dictionary vs List"
   ]
  },
  {
   "cell_type": "code",
   "execution_count": 24,
   "metadata": {},
   "outputs": [],
   "source": [
    "import time\n",
    "\n",
    "d = {}\n",
    "\n",
    "for i in range(10000000):\n",
    "    d[i] = \"value \" + str(i)\n",
    "    \n",
    "big_list = [x for x in range(10000000)]"
   ]
  },
  {
   "cell_type": "code",
   "execution_count": 29,
   "metadata": {},
   "outputs": [
    {
     "name": "stdout",
     "output_type": "stream",
     "text": [
      "value 9999999\n",
      "elapsed time for dictionary: 0.0\n",
      "9999999\n",
      "Elapsed time for list: 0.5651118755340576\n",
      "9999999\n",
      "Elapsed time for known position 0.0\n"
     ]
    }
   ],
   "source": [
    "start_time = time.time()\n",
    "\n",
    "print(d[9999999])\n",
    "\n",
    "end_time = time.time() - start_time\n",
    "\n",
    "print(f\"elapsed time for dictionary: {end_time}\")\n",
    "\n",
    "\n",
    "start_time = time.time()\n",
    "\n",
    "for i in range(len(big_list)):\n",
    "    if i == 9999999:\n",
    "        print(i)\n",
    "        \n",
    "        \n",
    "end_time = time.time() - start_time\n",
    "print(f\"Elapsed time for list: {end_time}\")\n",
    "\n",
    "\n",
    "start_time = time.time()\n",
    "\n",
    "print(big_list[-1])\n",
    "end_time = time.time() - start_time\n",
    "print(f\"Elapsed time for known position {end_time}\")"
   ]
  },
  {
   "cell_type": "code",
   "execution_count": null,
   "metadata": {},
   "outputs": [],
   "source": []
  },
  {
   "cell_type": "markdown",
   "metadata": {},
   "source": [
    "## Exercise #3 - Write a Function that asks someone's name and address, and then stores that into a dictionary, and continues to do so until they choose to 'quit'. Once they quit, the program should print all names and addresses. <br>\n",
    "<p>\n",
    "<b>Proper steps:</b><br>\n",
    "step 1: write a function that takes in information and stores it in a dictionary<br>\n",
    "step 2: define an empty dictionary to work with<br>\n",
    "step 3: create our loop, which asks the user for information until they quit<br>\n",
    "step 4: ask for the information, and store it into variables<br>\n",
    "step 5: check if the user types quit<br>\n",
    "step 5a: print out all information<br>\n",
    "step 5b: break out of the loop<br>\n",
    "step 6: if they didn't quit, add the information to the dictionary<br>\n",
    "step 7: invoke the function by calling it\n",
    "</p>"
   ]
  },
  {
   "cell_type": "code",
   "execution_count": 1,
   "metadata": {},
   "outputs": [
    {
     "name": "stdout",
     "output_type": "stream",
     "text": [
      "Enter a name or say 'quit' to quit: quit\n"
     ]
    }
   ],
   "source": [
    "from IPython.display import clear_output\n",
    "\n",
    "# Step 1\n",
    "def storeInfo():\n",
    "    d = {}\n",
    "    \n",
    "    while True:\n",
    "        \n",
    "        name = input(\"Enter a name or say 'quit' to quit: \")\n",
    "        if name.lower() != 'quit':\n",
    "            address = input(\"Enter an address or say 'quit' to quit\")\n",
    "            clear_output()\n",
    "        \n",
    "        if name.lower() == \"quit\" or address.lower() == \"quit\":\n",
    "            for key, value in d.items():\n",
    "                print(f\"The address for {key} is {value}.\")\n",
    "            break\n",
    "        d[name] = address\n",
    "        \n",
    "        \n",
    "storeInfo()"
   ]
  },
  {
   "cell_type": "markdown",
   "metadata": {},
   "source": [
    "## Set <br>\n",
    "<p>A Set is an unordered collection data type that is iterable (loop), mutable, and has no duplicate elements.<br>Major advantage is that it is highly optimized in checking if something is in the set, as opposed to checking if something is in a list.</p>"
   ]
  },
  {
   "cell_type": "markdown",
   "metadata": {},
   "source": [
    "##### Declaring"
   ]
  },
  {
   "cell_type": "code",
   "execution_count": 34,
   "metadata": {},
   "outputs": [
    {
     "ename": "NameError",
     "evalue": "name 'my_set' is not defined",
     "output_type": "error",
     "traceback": [
      "\u001b[1;31m---------------------------------------------------------------------------\u001b[0m",
      "\u001b[1;31mNameError\u001b[0m                                 Traceback (most recent call last)",
      "Cell \u001b[1;32mIn [34], line 3\u001b[0m\n\u001b[0;32m      1\u001b[0m \u001b[38;5;66;03m# set() or {}\u001b[39;00m\n\u001b[0;32m      2\u001b[0m \u001b[38;5;66;03m# no order {3, 2, 1} outputs as {1, 2, 3}\u001b[39;00m\n\u001b[1;32m----> 3\u001b[0m \u001b[38;5;28mprint\u001b[39m(\u001b[38;5;28mdir\u001b[39m(\u001b[43mmy_set\u001b[49m))\n",
      "\u001b[1;31mNameError\u001b[0m: name 'my_set' is not defined"
     ]
    }
   ],
   "source": [
    "# set() or {}\n",
    "# no order {3, 2, 1} outputs as {1, 2, 3}\n"
   ]
  },
  {
   "cell_type": "markdown",
   "metadata": {},
   "source": [
    "##### .add()"
   ]
  },
  {
   "cell_type": "code",
   "execution_count": null,
   "metadata": {},
   "outputs": [],
   "source": [
    "# set.add()\n"
   ]
  },
  {
   "cell_type": "markdown",
   "metadata": {},
   "source": [
    "##### .remove()"
   ]
  },
  {
   "cell_type": "code",
   "execution_count": null,
   "metadata": {},
   "outputs": [],
   "source": [
    "# removes by value\n",
    "# set.remove()\n",
    "# nums.remove(56)\n"
   ]
  },
  {
   "cell_type": "markdown",
   "metadata": {},
   "source": [
    "##### .union() "
   ]
  },
  {
   "cell_type": "code",
   "execution_count": null,
   "metadata": {},
   "outputs": [],
   "source": [
    "# Returns a union of two sets, can also use '|' or set.union(set)\n",
    "# joins all numbers, gets rid of duplicates\n",
    "\n"
   ]
  },
  {
   "cell_type": "markdown",
   "metadata": {},
   "source": [
    "##### .intersection()"
   ]
  },
  {
   "cell_type": "code",
   "execution_count": null,
   "metadata": {},
   "outputs": [],
   "source": [
    "# Returns an intersection of two sets, can also use '&'\n",
    "# only takes similar elements from both sets\n"
   ]
  },
  {
   "cell_type": "markdown",
   "metadata": {},
   "source": [
    "##### .difference()"
   ]
  },
  {
   "cell_type": "code",
   "execution_count": null,
   "metadata": {},
   "outputs": [],
   "source": [
    "# Returns a set containing all the elements of invoking set that are not in the second set, can also use '-'\n",
    "# only takes values from the first set that are not in the second set\n",
    "# order matters\n",
    "\n"
   ]
  },
  {
   "cell_type": "markdown",
   "metadata": {},
   "source": [
    "##### .clear()"
   ]
  },
  {
   "cell_type": "code",
   "execution_count": null,
   "metadata": {},
   "outputs": [],
   "source": [
    "# Empties the whole set\n",
    "# set.clear()\n"
   ]
  },
  {
   "cell_type": "code",
   "execution_count": null,
   "metadata": {},
   "outputs": [],
   "source": []
  },
  {
   "cell_type": "markdown",
   "metadata": {},
   "source": [
    "##### Frozenset <br>\n",
    "<p>Frozen sets are immutable objects that only support methods and operators that produce a result without affecting the frozen set or sets to which they are applied.</p><br><b>Unique & Immutable</b>"
   ]
  },
  {
   "cell_type": "code",
   "execution_count": null,
   "metadata": {},
   "outputs": [],
   "source": [
    "# frozenset([])\n"
   ]
  },
  {
   "cell_type": "markdown",
   "metadata": {},
   "source": [
    "## Modules"
   ]
  },
  {
   "cell_type": "markdown",
   "metadata": {},
   "source": [
    "##### Importing Entire Modules"
   ]
  },
  {
   "cell_type": "code",
   "execution_count": null,
   "metadata": {},
   "outputs": [],
   "source": [
    "# import \n",
    "# or \n",
    "# from 'xxx' import *\n",
    "import math\n",
    "\n",
    "print(math.pi)\n",
    "\n",
    "num = 5\n",
    "num2 = 2\n",
    "num3 = 5//2\n",
    "print(3)\n",
    "print(math.ceil(math.pi))"
   ]
  },
  {
   "cell_type": "code",
   "execution_count": null,
   "metadata": {},
   "outputs": [],
   "source": [
    "##### Importing Methods Only"
   ]
  },
  {
   "cell_type": "code",
   "execution_count": null,
   "metadata": {},
   "outputs": [],
   "source": [
    "# from 'xxx' import 'xxx'\n",
    "# from math import floor\n",
    "\n"
   ]
  },
  {
   "cell_type": "markdown",
   "metadata": {},
   "source": [
    "##### Using the 'as' Keyword"
   ]
  },
  {
   "cell_type": "code",
   "execution_count": null,
   "metadata": {},
   "outputs": [],
   "source": [
    "# from 'xxx' import 'xxx' as 'xxx' or import 'xxx' as 'xxx'\n",
    "# from math import floor as f\n",
    "\n"
   ]
  },
  {
   "cell_type": "markdown",
   "metadata": {},
   "source": [
    "##### Creating a Module"
   ]
  },
  {
   "cell_type": "code",
   "execution_count": null,
   "metadata": {},
   "outputs": [],
   "source": [
    "from module import printName as pn\n",
    "\n"
   ]
  },
  {
   "cell_type": "markdown",
   "metadata": {},
   "source": [
    "# Exercises"
   ]
  },
  {
   "cell_type": "markdown",
   "metadata": {},
   "source": [
    "### 1) Build a Shopping Cart <br>\n",
    "<p><b>You can use either lists or dictionaries. The program should have the following capabilities:</b><br><br>\n",
    "1) Takes in input <br>\n",
    "2) Stores user input into a dictionary or list <br>\n",
    "3) The User can add or delete items <br>\n",
    "4) The User can see current shopping list <br>\n",
    "5) The program Loops until user 'quits' <br>\n",
    "6) Upon quiting the program, print out all items in the user's list <br>\n",
    "</p>"
   ]
  },
  {
   "cell_type": "code",
   "execution_count": 4,
   "metadata": {},
   "outputs": [
    {
     "name": "stdout",
     "output_type": "stream",
     "text": [
      "Here is your shopping cart: ['Bread', 'Appl']\n"
     ]
    }
   ],
   "source": [
    "from IPython.display import clear_output\n",
    "\n",
    "# Ask the user four bits of input: Do you want to : Show/Add/Delete or Quit?\n",
    "\n",
    "\n",
    "userCart = []\n",
    "\n",
    "def shoppingCart():\n",
    "    application_running = True\n",
    "\n",
    "    while application_running:\n",
    "        \n",
    "        cartInput = input('Add an item to your shopping cart, if you would like remove an item, type \"remove\". To exit, type Q ').title()\n",
    "        \n",
    "        if cartInput == \"Remove\":\n",
    "            clear_output()\n",
    "            print(userCart)\n",
    "            removeInput = input(\"Which item would you like to remove? \").title()\n",
    "            if removeInput in userCart:\n",
    "                userCart.remove(removeInput)\n",
    "            else:\n",
    "                clear_output()\n",
    "                print(f'\"{removeInput}\" was not in your cart')\n",
    "            clear_output()\n",
    "            print(userCart)\n",
    "            continue\n",
    "        elif cartInput == \"Q\":\n",
    "            clear_output()\n",
    "            print(\"Here is your shopping cart:\", userCart)\n",
    "            application_running = False\n",
    "            break\n",
    "        else:\n",
    "            userCart.append(cartInput)\n",
    "            clear_output()\n",
    "            print(userCart)\n",
    "            continue            \n",
    "\n",
    "\n",
    "shoppingCart()\n",
    "        "
   ]
  },
  {
   "cell_type": "markdown",
   "metadata": {},
   "source": [
    "### 2) Create a Module in VS Code and Import It into jupyter notebook <br>\n",
    "<p><b>Module should have the following capabilities:</b><br><br>\n",
    "1) Has a function to calculate the square footage of a house <br>\n",
    "    <b>Reminder of Formula: Length X Width == Area<br>\n",
    "        <hr>\n",
    "2) Has a function to calculate the circumference of a circle <br><br>\n",
    "<b>Program in Jupyter Notebook should take in user input and use imported functions to calculate a circle's circumference or a houses square footage</b>\n",
    "</p>"
   ]
  },
  {
   "cell_type": "code",
   "execution_count": 4,
   "metadata": {},
   "outputs": [],
   "source": [
    "from calculator import circumCircle, squareFootage"
   ]
  },
  {
   "cell_type": "code",
   "execution_count": 5,
   "metadata": {},
   "outputs": [
    {
     "name": "stdout",
     "output_type": "stream",
     "text": [
      "Enter the radius of your circle (in inches): 18\n",
      "The Circumference of your circle is 114 inches long\n",
      "Enter the length of the house (in feet): 39\n",
      "Enter the width of the house (in feet): 149\n",
      "The area of your house is 5811 Ft\n"
     ]
    }
   ],
   "source": [
    "circumCircle()\n",
    "squareFootage()"
   ]
  },
  {
   "cell_type": "code",
   "execution_count": null,
   "metadata": {},
   "outputs": [],
   "source": []
  }
 ],
 "metadata": {
  "kernelspec": {
   "display_name": "Python 3 (ipykernel)",
   "language": "python",
   "name": "python3"
  },
  "language_info": {
   "codemirror_mode": {
    "name": "ipython",
    "version": 3
   },
   "file_extension": ".py",
   "mimetype": "text/x-python",
   "name": "python",
   "nbconvert_exporter": "python",
   "pygments_lexer": "ipython3",
   "version": "3.10.8"
  },
  "vscode": {
   "interpreter": {
    "hash": "413c54d42d867d78bc5693b88112002b4b75f03abc9fed1665b973f73c05d110"
   }
  }
 },
 "nbformat": 4,
 "nbformat_minor": 2
}
